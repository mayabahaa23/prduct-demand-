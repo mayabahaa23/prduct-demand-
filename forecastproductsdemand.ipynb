{
 "cells": [
  {
   "cell_type": "markdown",
   "id": "neither-absorption",
   "metadata": {
    "papermill": {
     "duration": 0.023685,
     "end_time": "2021-05-30T12:40:38.075514",
     "exception": false,
     "start_time": "2021-05-30T12:40:38.051829",
     "status": "completed"
    },
    "tags": []
   },
   "source": [
    "**Import \n",
    "** "
   ]
  },
  {
   "cell_type": "code",
   "execution_count": 1,
   "id": "spectacular-trailer",
   "metadata": {
    "execution": {
     "iopub.execute_input": "2021-05-30T12:40:38.130822Z",
     "iopub.status.busy": "2021-05-30T12:40:38.130176Z",
     "iopub.status.idle": "2021-05-30T12:40:38.144490Z",
     "shell.execute_reply": "2021-05-30T12:40:38.143828Z",
     "shell.execute_reply.started": "2021-05-30T12:12:24.480968Z"
    },
    "papermill": {
     "duration": 0.046614,
     "end_time": "2021-05-30T12:40:38.144654",
     "exception": false,
     "start_time": "2021-05-30T12:40:38.098040",
     "status": "completed"
    },
    "tags": []
   },
   "outputs": [
    {
     "name": "stdout",
     "output_type": "stream",
     "text": [
      "/kaggle/input/productdemandforecasting/Historical Product Demand.csv\n"
     ]
    }
   ],
   "source": [
    "import os\n",
    "for dirname,_,filenames in os.walk('/kaggle/input'):\n",
    "    for filename in filenames:\n",
    "        print (os.path.join(dirname,filename))"
   ]
  },
  {
   "cell_type": "code",
   "execution_count": 2,
   "id": "exposed-french",
   "metadata": {
    "execution": {
     "iopub.execute_input": "2021-05-30T12:40:38.196513Z",
     "iopub.status.busy": "2021-05-30T12:40:38.195872Z",
     "iopub.status.idle": "2021-05-30T12:40:40.633695Z",
     "shell.execute_reply": "2021-05-30T12:40:40.633191Z",
     "shell.execute_reply.started": "2021-05-30T12:12:24.491581Z"
    },
    "papermill": {
     "duration": 2.466362,
     "end_time": "2021-05-30T12:40:40.633856",
     "exception": false,
     "start_time": "2021-05-30T12:40:38.167494",
     "status": "completed"
    },
    "tags": []
   },
   "outputs": [
    {
     "data": {
      "text/html": [
       "<div>\n",
       "<style scoped>\n",
       "    .dataframe tbody tr th:only-of-type {\n",
       "        vertical-align: middle;\n",
       "    }\n",
       "\n",
       "    .dataframe tbody tr th {\n",
       "        vertical-align: top;\n",
       "    }\n",
       "\n",
       "    .dataframe thead th {\n",
       "        text-align: right;\n",
       "    }\n",
       "</style>\n",
       "<table border=\"1\" class=\"dataframe\">\n",
       "  <thead>\n",
       "    <tr style=\"text-align: right;\">\n",
       "      <th></th>\n",
       "      <th>Product_Code</th>\n",
       "      <th>Warehouse</th>\n",
       "      <th>Product_Category</th>\n",
       "      <th>Date</th>\n",
       "      <th>Order_Demand</th>\n",
       "    </tr>\n",
       "  </thead>\n",
       "  <tbody>\n",
       "    <tr>\n",
       "      <th>0</th>\n",
       "      <td>Product_0993</td>\n",
       "      <td>Whse_J</td>\n",
       "      <td>Category_028</td>\n",
       "      <td>2012-07-27</td>\n",
       "      <td>100</td>\n",
       "    </tr>\n",
       "    <tr>\n",
       "      <th>1</th>\n",
       "      <td>Product_0979</td>\n",
       "      <td>Whse_J</td>\n",
       "      <td>Category_028</td>\n",
       "      <td>2012-01-19</td>\n",
       "      <td>500</td>\n",
       "    </tr>\n",
       "    <tr>\n",
       "      <th>2</th>\n",
       "      <td>Product_0979</td>\n",
       "      <td>Whse_J</td>\n",
       "      <td>Category_028</td>\n",
       "      <td>2012-02-03</td>\n",
       "      <td>500</td>\n",
       "    </tr>\n",
       "    <tr>\n",
       "      <th>3</th>\n",
       "      <td>Product_0979</td>\n",
       "      <td>Whse_J</td>\n",
       "      <td>Category_028</td>\n",
       "      <td>2012-02-09</td>\n",
       "      <td>500</td>\n",
       "    </tr>\n",
       "    <tr>\n",
       "      <th>4</th>\n",
       "      <td>Product_0979</td>\n",
       "      <td>Whse_J</td>\n",
       "      <td>Category_028</td>\n",
       "      <td>2012-03-02</td>\n",
       "      <td>500</td>\n",
       "    </tr>\n",
       "    <tr>\n",
       "      <th>...</th>\n",
       "      <td>...</td>\n",
       "      <td>...</td>\n",
       "      <td>...</td>\n",
       "      <td>...</td>\n",
       "      <td>...</td>\n",
       "    </tr>\n",
       "    <tr>\n",
       "      <th>95</th>\n",
       "      <td>Product_1512</td>\n",
       "      <td>Whse_J</td>\n",
       "      <td>Category_019</td>\n",
       "      <td>2012-06-15</td>\n",
       "      <td>30000</td>\n",
       "    </tr>\n",
       "    <tr>\n",
       "      <th>96</th>\n",
       "      <td>Product_1512</td>\n",
       "      <td>Whse_J</td>\n",
       "      <td>Category_019</td>\n",
       "      <td>2012-06-20</td>\n",
       "      <td>30000</td>\n",
       "    </tr>\n",
       "    <tr>\n",
       "      <th>97</th>\n",
       "      <td>Product_1512</td>\n",
       "      <td>Whse_J</td>\n",
       "      <td>Category_019</td>\n",
       "      <td>2012-07-04</td>\n",
       "      <td>30000</td>\n",
       "    </tr>\n",
       "    <tr>\n",
       "      <th>98</th>\n",
       "      <td>Product_1274</td>\n",
       "      <td>Whse_J</td>\n",
       "      <td>Category_019</td>\n",
       "      <td>2012-06-19</td>\n",
       "      <td>1000</td>\n",
       "    </tr>\n",
       "    <tr>\n",
       "      <th>99</th>\n",
       "      <td>Product_1451</td>\n",
       "      <td>Whse_J</td>\n",
       "      <td>Category_019</td>\n",
       "      <td>2012-06-26</td>\n",
       "      <td>1000</td>\n",
       "    </tr>\n",
       "  </tbody>\n",
       "</table>\n",
       "<p>100 rows × 5 columns</p>\n",
       "</div>"
      ],
      "text/plain": [
       "    Product_Code Warehouse Product_Category       Date Order_Demand\n",
       "0   Product_0993    Whse_J     Category_028 2012-07-27         100 \n",
       "1   Product_0979    Whse_J     Category_028 2012-01-19         500 \n",
       "2   Product_0979    Whse_J     Category_028 2012-02-03         500 \n",
       "3   Product_0979    Whse_J     Category_028 2012-02-09         500 \n",
       "4   Product_0979    Whse_J     Category_028 2012-03-02         500 \n",
       "..           ...       ...              ...        ...          ...\n",
       "95  Product_1512    Whse_J     Category_019 2012-06-15       30000 \n",
       "96  Product_1512    Whse_J     Category_019 2012-06-20       30000 \n",
       "97  Product_1512    Whse_J     Category_019 2012-07-04       30000 \n",
       "98  Product_1274    Whse_J     Category_019 2012-06-19        1000 \n",
       "99  Product_1451    Whse_J     Category_019 2012-06-26        1000 \n",
       "\n",
       "[100 rows x 5 columns]"
      ]
     },
     "execution_count": 2,
     "metadata": {},
     "output_type": "execute_result"
    }
   ],
   "source": [
    "import pandas as pd # Data handling and managing\n",
    "import numpy as np  # Handiling linear Algera\n",
    "import seaborn as sn\n",
    "import matplotlib.pyplot as plt\n",
    "%matplotlib inline\n",
    "\n",
    "\n",
    "df = pd.read_csv('../input/productdemandforecasting/Historical Product Demand.csv', parse_dates=['Date'])\n",
    "df.head(100) # Getting the first 100 rows to view the records\n",
    "#df.shape"
   ]
  },
  {
   "cell_type": "markdown",
   "id": "round-convenience",
   "metadata": {
    "papermill": {
     "duration": 0.022557,
     "end_time": "2021-05-30T12:40:40.680060",
     "exception": false,
     "start_time": "2021-05-30T12:40:40.657503",
     "status": "completed"
    },
    "tags": []
   },
   "source": []
  },
  {
   "cell_type": "markdown",
   "id": "oriented-mauritius",
   "metadata": {
    "papermill": {
     "duration": 0.022713,
     "end_time": "2021-05-30T12:40:40.726124",
     "exception": false,
     "start_time": "2021-05-30T12:40:40.703411",
     "status": "completed"
    },
    "tags": []
   },
   "source": []
  },
  {
   "cell_type": "code",
   "execution_count": 3,
   "id": "individual-brown",
   "metadata": {
    "execution": {
     "iopub.execute_input": "2021-05-30T12:40:40.779141Z",
     "iopub.status.busy": "2021-05-30T12:40:40.778216Z",
     "iopub.status.idle": "2021-05-30T12:40:40.782568Z",
     "shell.execute_reply": "2021-05-30T12:40:40.782095Z",
     "shell.execute_reply.started": "2021-05-30T12:12:25.341095Z"
    },
    "papermill": {
     "duration": 0.033721,
     "end_time": "2021-05-30T12:40:40.782699",
     "exception": false,
     "start_time": "2021-05-30T12:40:40.748978",
     "status": "completed"
    },
    "tags": []
   },
   "outputs": [
    {
     "data": {
      "text/plain": [
       "Product_Code                object\n",
       "Warehouse                   object\n",
       "Product_Category            object\n",
       "Date                datetime64[ns]\n",
       "Order_Demand                object\n",
       "dtype: object"
      ]
     },
     "execution_count": 3,
     "metadata": {},
     "output_type": "execute_result"
    }
   ],
   "source": [
    "df.dtypes"
   ]
  },
  {
   "cell_type": "code",
   "execution_count": 4,
   "id": "solved-yeast",
   "metadata": {
    "execution": {
     "iopub.execute_input": "2021-05-30T12:40:40.835827Z",
     "iopub.status.busy": "2021-05-30T12:40:40.834942Z",
     "iopub.status.idle": "2021-05-30T12:40:41.582765Z",
     "shell.execute_reply": "2021-05-30T12:40:41.582079Z",
     "shell.execute_reply.started": "2021-05-30T12:12:25.351883Z"
    },
    "papermill": {
     "duration": 0.776727,
     "end_time": "2021-05-30T12:40:41.582907",
     "exception": false,
     "start_time": "2021-05-30T12:40:40.806180",
     "status": "completed"
    },
    "tags": []
   },
   "outputs": [
    {
     "name": "stdout",
     "output_type": "stream",
     "text": [
      "1  /  5\n",
      "11239 / 1048575\n"
     ]
    }
   ],
   "source": [
    "# Check for the columns which got has the NaN values\n",
    "print(df.isnull().any().sum(), ' / ', len(df.columns))\n",
    "# Check any number of data points with NaN\n",
    "print(df.isnull().any(axis=1).sum(),'/', len(df))\n",
    "\n"
   ]
  },
  {
   "cell_type": "code",
   "execution_count": 5,
   "id": "collected-turning",
   "metadata": {
    "execution": {
     "iopub.execute_input": "2021-05-30T12:40:41.637024Z",
     "iopub.status.busy": "2021-05-30T12:40:41.636380Z",
     "iopub.status.idle": "2021-05-30T12:40:42.372657Z",
     "shell.execute_reply": "2021-05-30T12:40:42.372132Z",
     "shell.execute_reply.started": "2021-05-30T12:12:25.651634Z"
    },
    "papermill": {
     "duration": 0.765747,
     "end_time": "2021-05-30T12:40:42.372818",
     "exception": false,
     "start_time": "2021-05-30T12:40:41.607071",
     "status": "completed"
    },
    "tags": []
   },
   "outputs": [
    {
     "data": {
      "text/html": [
       "<div>\n",
       "<style scoped>\n",
       "    .dataframe tbody tr th:only-of-type {\n",
       "        vertical-align: middle;\n",
       "    }\n",
       "\n",
       "    .dataframe tbody tr th {\n",
       "        vertical-align: top;\n",
       "    }\n",
       "\n",
       "    .dataframe thead th {\n",
       "        text-align: right;\n",
       "    }\n",
       "</style>\n",
       "<table border=\"1\" class=\"dataframe\">\n",
       "  <thead>\n",
       "    <tr style=\"text-align: right;\">\n",
       "      <th></th>\n",
       "      <th>Product_Code</th>\n",
       "      <th>Warehouse</th>\n",
       "      <th>Product_Category</th>\n",
       "      <th>Date</th>\n",
       "      <th>Order_Demand</th>\n",
       "    </tr>\n",
       "  </thead>\n",
       "  <tbody>\n",
       "    <tr>\n",
       "      <th>72252</th>\n",
       "      <td>Product_1724</td>\n",
       "      <td>Whse_A</td>\n",
       "      <td>Category_003</td>\n",
       "      <td>2011-05-31</td>\n",
       "      <td>108</td>\n",
       "    </tr>\n",
       "    <tr>\n",
       "      <th>8431</th>\n",
       "      <td>Product_1521</td>\n",
       "      <td>Whse_S</td>\n",
       "      <td>Category_019</td>\n",
       "      <td>2011-06-24</td>\n",
       "      <td>85000</td>\n",
       "    </tr>\n",
       "    <tr>\n",
       "      <th>8432</th>\n",
       "      <td>Product_1521</td>\n",
       "      <td>Whse_S</td>\n",
       "      <td>Category_019</td>\n",
       "      <td>2011-06-24</td>\n",
       "      <td>7000</td>\n",
       "    </tr>\n",
       "    <tr>\n",
       "      <th>72669</th>\n",
       "      <td>Product_1507</td>\n",
       "      <td>Whse_C</td>\n",
       "      <td>Category_019</td>\n",
       "      <td>2011-09-02</td>\n",
       "      <td>1250</td>\n",
       "    </tr>\n",
       "    <tr>\n",
       "      <th>17249</th>\n",
       "      <td>Product_0608</td>\n",
       "      <td>Whse_C</td>\n",
       "      <td>Category_001</td>\n",
       "      <td>2011-09-27</td>\n",
       "      <td>5</td>\n",
       "    </tr>\n",
       "    <tr>\n",
       "      <th>17250</th>\n",
       "      <td>Product_1933</td>\n",
       "      <td>Whse_C</td>\n",
       "      <td>Category_001</td>\n",
       "      <td>2011-09-27</td>\n",
       "      <td>23</td>\n",
       "    </tr>\n",
       "    <tr>\n",
       "      <th>74615</th>\n",
       "      <td>Product_0875</td>\n",
       "      <td>Whse_C</td>\n",
       "      <td>Category_023</td>\n",
       "      <td>2011-09-30</td>\n",
       "      <td>5450</td>\n",
       "    </tr>\n",
       "    <tr>\n",
       "      <th>131426</th>\n",
       "      <td>Product_0125</td>\n",
       "      <td>Whse_S</td>\n",
       "      <td>Category_011</td>\n",
       "      <td>2011-10-20</td>\n",
       "      <td>(2)</td>\n",
       "    </tr>\n",
       "    <tr>\n",
       "      <th>131429</th>\n",
       "      <td>Product_0412</td>\n",
       "      <td>Whse_S</td>\n",
       "      <td>Category_007</td>\n",
       "      <td>2011-10-20</td>\n",
       "      <td>(2)</td>\n",
       "    </tr>\n",
       "    <tr>\n",
       "      <th>75193</th>\n",
       "      <td>Product_0642</td>\n",
       "      <td>Whse_C</td>\n",
       "      <td>Category_019</td>\n",
       "      <td>2011-10-31</td>\n",
       "      <td>3</td>\n",
       "    </tr>\n",
       "    <tr>\n",
       "      <th>121820</th>\n",
       "      <td>Product_0202</td>\n",
       "      <td>Whse_A</td>\n",
       "      <td>Category_007</td>\n",
       "      <td>2011-11-04</td>\n",
       "      <td>(100)</td>\n",
       "    </tr>\n",
       "    <tr>\n",
       "      <th>121819</th>\n",
       "      <td>Product_0202</td>\n",
       "      <td>Whse_A</td>\n",
       "      <td>Category_007</td>\n",
       "      <td>2011-11-04</td>\n",
       "      <td>(400)</td>\n",
       "    </tr>\n",
       "    <tr>\n",
       "      <th>131028</th>\n",
       "      <td>Product_2143</td>\n",
       "      <td>Whse_S</td>\n",
       "      <td>Category_009</td>\n",
       "      <td>2011-11-18</td>\n",
       "      <td>(25)</td>\n",
       "    </tr>\n",
       "    <tr>\n",
       "      <th>131031</th>\n",
       "      <td>Product_0131</td>\n",
       "      <td>Whse_S</td>\n",
       "      <td>Category_021</td>\n",
       "      <td>2011-11-18</td>\n",
       "      <td>(12)</td>\n",
       "    </tr>\n",
       "    <tr>\n",
       "      <th>131032</th>\n",
       "      <td>Product_0288</td>\n",
       "      <td>Whse_S</td>\n",
       "      <td>Category_021</td>\n",
       "      <td>2011-11-18</td>\n",
       "      <td>(50)</td>\n",
       "    </tr>\n",
       "    <tr>\n",
       "      <th>44450</th>\n",
       "      <td>Product_0980</td>\n",
       "      <td>Whse_A</td>\n",
       "      <td>Category_028</td>\n",
       "      <td>2011-11-18</td>\n",
       "      <td>4000</td>\n",
       "    </tr>\n",
       "    <tr>\n",
       "      <th>131027</th>\n",
       "      <td>Product_2138</td>\n",
       "      <td>Whse_S</td>\n",
       "      <td>Category_009</td>\n",
       "      <td>2011-11-18</td>\n",
       "      <td>(49)</td>\n",
       "    </tr>\n",
       "    <tr>\n",
       "      <th>131026</th>\n",
       "      <td>Product_2137</td>\n",
       "      <td>Whse_S</td>\n",
       "      <td>Category_009</td>\n",
       "      <td>2011-11-18</td>\n",
       "      <td>(25)</td>\n",
       "    </tr>\n",
       "    <tr>\n",
       "      <th>44795</th>\n",
       "      <td>Product_0965</td>\n",
       "      <td>Whse_A</td>\n",
       "      <td>Category_006</td>\n",
       "      <td>2011-11-18</td>\n",
       "      <td>1</td>\n",
       "    </tr>\n",
       "    <tr>\n",
       "      <th>44798</th>\n",
       "      <td>Product_0965</td>\n",
       "      <td>Whse_A</td>\n",
       "      <td>Category_006</td>\n",
       "      <td>2011-11-21</td>\n",
       "      <td>2</td>\n",
       "    </tr>\n",
       "    <tr>\n",
       "      <th>44797</th>\n",
       "      <td>Product_0965</td>\n",
       "      <td>Whse_A</td>\n",
       "      <td>Category_006</td>\n",
       "      <td>2011-11-21</td>\n",
       "      <td>5</td>\n",
       "    </tr>\n",
       "    <tr>\n",
       "      <th>44796</th>\n",
       "      <td>Product_0965</td>\n",
       "      <td>Whse_A</td>\n",
       "      <td>Category_006</td>\n",
       "      <td>2011-11-21</td>\n",
       "      <td>3</td>\n",
       "    </tr>\n",
       "    <tr>\n",
       "      <th>119561</th>\n",
       "      <td>Product_0980</td>\n",
       "      <td>Whse_A</td>\n",
       "      <td>Category_028</td>\n",
       "      <td>2011-11-21</td>\n",
       "      <td>100</td>\n",
       "    </tr>\n",
       "    <tr>\n",
       "      <th>107159</th>\n",
       "      <td>Product_0138</td>\n",
       "      <td>Whse_J</td>\n",
       "      <td>Category_007</td>\n",
       "      <td>2011-11-22</td>\n",
       "      <td>1852</td>\n",
       "    </tr>\n",
       "    <tr>\n",
       "      <th>107158</th>\n",
       "      <td>Product_0138</td>\n",
       "      <td>Whse_J</td>\n",
       "      <td>Category_007</td>\n",
       "      <td>2011-11-22</td>\n",
       "      <td>188</td>\n",
       "    </tr>\n",
       "    <tr>\n",
       "      <th>111727</th>\n",
       "      <td>Product_0982</td>\n",
       "      <td>Whse_A</td>\n",
       "      <td>Category_028</td>\n",
       "      <td>2011-11-22</td>\n",
       "      <td>3700</td>\n",
       "    </tr>\n",
       "    <tr>\n",
       "      <th>44102</th>\n",
       "      <td>Product_0980</td>\n",
       "      <td>Whse_A</td>\n",
       "      <td>Category_028</td>\n",
       "      <td>2011-11-23</td>\n",
       "      <td>1000</td>\n",
       "    </tr>\n",
       "    <tr>\n",
       "      <th>71915</th>\n",
       "      <td>Product_0980</td>\n",
       "      <td>Whse_A</td>\n",
       "      <td>Category_028</td>\n",
       "      <td>2011-11-23</td>\n",
       "      <td>200</td>\n",
       "    </tr>\n",
       "    <tr>\n",
       "      <th>44103</th>\n",
       "      <td>Product_0980</td>\n",
       "      <td>Whse_A</td>\n",
       "      <td>Category_028</td>\n",
       "      <td>2011-11-24</td>\n",
       "      <td>2000</td>\n",
       "    </tr>\n",
       "    <tr>\n",
       "      <th>73101</th>\n",
       "      <td>Product_1264</td>\n",
       "      <td>Whse_C</td>\n",
       "      <td>Category_019</td>\n",
       "      <td>2011-11-24</td>\n",
       "      <td>40000</td>\n",
       "    </tr>\n",
       "    <tr>\n",
       "      <th>45010</th>\n",
       "      <td>Product_0982</td>\n",
       "      <td>Whse_A</td>\n",
       "      <td>Category_028</td>\n",
       "      <td>2011-11-24</td>\n",
       "      <td>500</td>\n",
       "    </tr>\n",
       "    <tr>\n",
       "      <th>12858</th>\n",
       "      <td>Product_1235</td>\n",
       "      <td>Whse_C</td>\n",
       "      <td>Category_019</td>\n",
       "      <td>2011-11-25</td>\n",
       "      <td>16000</td>\n",
       "    </tr>\n",
       "    <tr>\n",
       "      <th>6702</th>\n",
       "      <td>Product_1190</td>\n",
       "      <td>Whse_C</td>\n",
       "      <td>Category_019</td>\n",
       "      <td>2011-11-25</td>\n",
       "      <td>1250</td>\n",
       "    </tr>\n",
       "    <tr>\n",
       "      <th>124567</th>\n",
       "      <td>Product_0122</td>\n",
       "      <td>Whse_A</td>\n",
       "      <td>Category_021</td>\n",
       "      <td>2011-11-28</td>\n",
       "      <td>310</td>\n",
       "    </tr>\n",
       "    <tr>\n",
       "      <th>72124</th>\n",
       "      <td>Product_0987</td>\n",
       "      <td>Whse_A</td>\n",
       "      <td>Category_028</td>\n",
       "      <td>2011-11-29</td>\n",
       "      <td>13100</td>\n",
       "    </tr>\n",
       "    <tr>\n",
       "      <th>45012</th>\n",
       "      <td>Product_0982</td>\n",
       "      <td>Whse_A</td>\n",
       "      <td>Category_028</td>\n",
       "      <td>2011-11-29</td>\n",
       "      <td>100</td>\n",
       "    </tr>\n",
       "    <tr>\n",
       "      <th>45011</th>\n",
       "      <td>Product_0982</td>\n",
       "      <td>Whse_A</td>\n",
       "      <td>Category_028</td>\n",
       "      <td>2011-11-29</td>\n",
       "      <td>250</td>\n",
       "    </tr>\n",
       "    <tr>\n",
       "      <th>72125</th>\n",
       "      <td>Product_0987</td>\n",
       "      <td>Whse_A</td>\n",
       "      <td>Category_028</td>\n",
       "      <td>2011-11-29</td>\n",
       "      <td>400</td>\n",
       "    </tr>\n",
       "    <tr>\n",
       "      <th>41105</th>\n",
       "      <td>Product_0982</td>\n",
       "      <td>Whse_A</td>\n",
       "      <td>Category_028</td>\n",
       "      <td>2011-11-29</td>\n",
       "      <td>500</td>\n",
       "    </tr>\n",
       "    <tr>\n",
       "      <th>72801</th>\n",
       "      <td>Product_0208</td>\n",
       "      <td>Whse_C</td>\n",
       "      <td>Category_007</td>\n",
       "      <td>2011-11-29</td>\n",
       "      <td>2</td>\n",
       "    </tr>\n",
       "    <tr>\n",
       "      <th>45233</th>\n",
       "      <td>Product_0981</td>\n",
       "      <td>Whse_A</td>\n",
       "      <td>Category_028</td>\n",
       "      <td>2011-11-30</td>\n",
       "      <td>400</td>\n",
       "    </tr>\n",
       "    <tr>\n",
       "      <th>113184</th>\n",
       "      <td>Product_0981</td>\n",
       "      <td>Whse_A</td>\n",
       "      <td>Category_028</td>\n",
       "      <td>2011-12-01</td>\n",
       "      <td>50</td>\n",
       "    </tr>\n",
       "    <tr>\n",
       "      <th>76479</th>\n",
       "      <td>Product_1102</td>\n",
       "      <td>Whse_S</td>\n",
       "      <td>Category_004</td>\n",
       "      <td>2011-12-01</td>\n",
       "      <td>1200</td>\n",
       "    </tr>\n",
       "    <tr>\n",
       "      <th>111728</th>\n",
       "      <td>Product_0982</td>\n",
       "      <td>Whse_A</td>\n",
       "      <td>Category_028</td>\n",
       "      <td>2011-12-01</td>\n",
       "      <td>4500</td>\n",
       "    </tr>\n",
       "    <tr>\n",
       "      <th>45013</th>\n",
       "      <td>Product_0981</td>\n",
       "      <td>Whse_A</td>\n",
       "      <td>Category_028</td>\n",
       "      <td>2011-12-02</td>\n",
       "      <td>2500</td>\n",
       "    </tr>\n",
       "    <tr>\n",
       "      <th>93055</th>\n",
       "      <td>Product_0504</td>\n",
       "      <td>Whse_J</td>\n",
       "      <td>Category_015</td>\n",
       "      <td>2011-12-05</td>\n",
       "      <td>1</td>\n",
       "    </tr>\n",
       "    <tr>\n",
       "      <th>107170</th>\n",
       "      <td>Product_0138</td>\n",
       "      <td>Whse_J</td>\n",
       "      <td>Category_007</td>\n",
       "      <td>2011-12-05</td>\n",
       "      <td>240</td>\n",
       "    </tr>\n",
       "    <tr>\n",
       "      <th>120622</th>\n",
       "      <td>Product_0967</td>\n",
       "      <td>Whse_A</td>\n",
       "      <td>Category_006</td>\n",
       "      <td>2011-12-05</td>\n",
       "      <td>10</td>\n",
       "    </tr>\n",
       "    <tr>\n",
       "      <th>124709</th>\n",
       "      <td>Product_1095</td>\n",
       "      <td>Whse_A</td>\n",
       "      <td>Category_024</td>\n",
       "      <td>2011-12-05</td>\n",
       "      <td>2</td>\n",
       "    </tr>\n",
       "  </tbody>\n",
       "</table>\n",
       "</div>"
      ],
      "text/plain": [
       "        Product_Code Warehouse Product_Category       Date Order_Demand\n",
       "72252   Product_1724    Whse_A     Category_003 2011-05-31         108 \n",
       "8431    Product_1521    Whse_S     Category_019 2011-06-24       85000 \n",
       "8432    Product_1521    Whse_S     Category_019 2011-06-24        7000 \n",
       "72669   Product_1507    Whse_C     Category_019 2011-09-02        1250 \n",
       "17249   Product_0608    Whse_C     Category_001 2011-09-27           5 \n",
       "17250   Product_1933    Whse_C     Category_001 2011-09-27          23 \n",
       "74615   Product_0875    Whse_C     Category_023 2011-09-30        5450 \n",
       "131426  Product_0125    Whse_S     Category_011 2011-10-20          (2)\n",
       "131429  Product_0412    Whse_S     Category_007 2011-10-20          (2)\n",
       "75193   Product_0642    Whse_C     Category_019 2011-10-31           3 \n",
       "121820  Product_0202    Whse_A     Category_007 2011-11-04        (100)\n",
       "121819  Product_0202    Whse_A     Category_007 2011-11-04        (400)\n",
       "131028  Product_2143    Whse_S     Category_009 2011-11-18         (25)\n",
       "131031  Product_0131    Whse_S     Category_021 2011-11-18         (12)\n",
       "131032  Product_0288    Whse_S     Category_021 2011-11-18         (50)\n",
       "44450   Product_0980    Whse_A     Category_028 2011-11-18        4000 \n",
       "131027  Product_2138    Whse_S     Category_009 2011-11-18         (49)\n",
       "131026  Product_2137    Whse_S     Category_009 2011-11-18         (25)\n",
       "44795   Product_0965    Whse_A     Category_006 2011-11-18           1 \n",
       "44798   Product_0965    Whse_A     Category_006 2011-11-21           2 \n",
       "44797   Product_0965    Whse_A     Category_006 2011-11-21           5 \n",
       "44796   Product_0965    Whse_A     Category_006 2011-11-21           3 \n",
       "119561  Product_0980    Whse_A     Category_028 2011-11-21         100 \n",
       "107159  Product_0138    Whse_J     Category_007 2011-11-22        1852 \n",
       "107158  Product_0138    Whse_J     Category_007 2011-11-22         188 \n",
       "111727  Product_0982    Whse_A     Category_028 2011-11-22        3700 \n",
       "44102   Product_0980    Whse_A     Category_028 2011-11-23        1000 \n",
       "71915   Product_0980    Whse_A     Category_028 2011-11-23         200 \n",
       "44103   Product_0980    Whse_A     Category_028 2011-11-24        2000 \n",
       "73101   Product_1264    Whse_C     Category_019 2011-11-24       40000 \n",
       "45010   Product_0982    Whse_A     Category_028 2011-11-24         500 \n",
       "12858   Product_1235    Whse_C     Category_019 2011-11-25       16000 \n",
       "6702    Product_1190    Whse_C     Category_019 2011-11-25        1250 \n",
       "124567  Product_0122    Whse_A     Category_021 2011-11-28         310 \n",
       "72124   Product_0987    Whse_A     Category_028 2011-11-29       13100 \n",
       "45012   Product_0982    Whse_A     Category_028 2011-11-29         100 \n",
       "45011   Product_0982    Whse_A     Category_028 2011-11-29         250 \n",
       "72125   Product_0987    Whse_A     Category_028 2011-11-29         400 \n",
       "41105   Product_0982    Whse_A     Category_028 2011-11-29         500 \n",
       "72801   Product_0208    Whse_C     Category_007 2011-11-29           2 \n",
       "45233   Product_0981    Whse_A     Category_028 2011-11-30         400 \n",
       "113184  Product_0981    Whse_A     Category_028 2011-12-01          50 \n",
       "76479   Product_1102    Whse_S     Category_004 2011-12-01        1200 \n",
       "111728  Product_0982    Whse_A     Category_028 2011-12-01        4500 \n",
       "45013   Product_0981    Whse_A     Category_028 2011-12-02        2500 \n",
       "93055   Product_0504    Whse_J     Category_015 2011-12-05           1 \n",
       "107170  Product_0138    Whse_J     Category_007 2011-12-05         240 \n",
       "120622  Product_0967    Whse_A     Category_006 2011-12-05          10 \n",
       "124709  Product_1095    Whse_A     Category_024 2011-12-05           2 "
      ]
     },
     "execution_count": 5,
     "metadata": {},
     "output_type": "execute_result"
    }
   ],
   "source": [
    "df.dropna(axis=0, inplace=True) #Remove all the rows with null values\n",
    "df.reset_index(drop=True)\n",
    "df.sort_values('Date')[1:50]"
   ]
  },
  {
   "cell_type": "code",
   "execution_count": 6,
   "id": "suspected-angel",
   "metadata": {
    "execution": {
     "iopub.execute_input": "2021-05-30T12:40:42.427269Z",
     "iopub.status.busy": "2021-05-30T12:40:42.426589Z",
     "iopub.status.idle": "2021-05-30T12:40:42.428666Z",
     "shell.execute_reply": "2021-05-30T12:40:42.429231Z",
     "shell.execute_reply.started": "2021-05-30T12:12:26.082397Z"
    },
    "papermill": {
     "duration": 0.031212,
     "end_time": "2021-05-30T12:40:42.429384",
     "exception": false,
     "start_time": "2021-05-30T12:40:42.398172",
     "status": "completed"
    },
    "tags": []
   },
   "outputs": [],
   "source": [
    "#df.dropna().sum()"
   ]
  },
  {
   "cell_type": "code",
   "execution_count": 7,
   "id": "anonymous-snapshot",
   "metadata": {
    "execution": {
     "iopub.execute_input": "2021-05-30T12:40:42.482581Z",
     "iopub.status.busy": "2021-05-30T12:40:42.481978Z",
     "iopub.status.idle": "2021-05-30T12:40:43.794234Z",
     "shell.execute_reply": "2021-05-30T12:40:43.794811Z",
     "shell.execute_reply.started": "2021-05-30T12:12:26.088381Z"
    },
    "papermill": {
     "duration": 1.340389,
     "end_time": "2021-05-30T12:40:43.794996",
     "exception": false,
     "start_time": "2021-05-30T12:40:42.454607",
     "status": "completed"
    },
    "tags": []
   },
   "outputs": [
    {
     "name": "stderr",
     "output_type": "stream",
     "text": [
      "/opt/conda/lib/python3.7/site-packages/ipykernel_launcher.py:1: FutureWarning: The default value of regex will change from True to False in a future version. In addition, single character regular expressions will*not* be treated as literal strings when regex=True.\n",
      "  \"\"\"Entry point for launching an IPython kernel.\n",
      "/opt/conda/lib/python3.7/site-packages/ipykernel_launcher.py:2: FutureWarning: The default value of regex will change from True to False in a future version. In addition, single character regular expressions will*not* be treated as literal strings when regex=True.\n",
      "  \n"
     ]
    }
   ],
   "source": [
    "df['Order_Demand']=df['Order_Demand'].str.replace('(',\"\")\n",
    "df['Order_Demand']=df['Order_Demand'].str.replace(')',\"\")\n",
    "df.head(100)\n",
    "#Since the \"()\" has been removed , Now i Will change the data type.\n",
    "\n",
    "df['Order_Demand'] = df['Order_Demand'].astype('int64')"
   ]
  },
  {
   "cell_type": "code",
   "execution_count": 8,
   "id": "social-decrease",
   "metadata": {
    "execution": {
     "iopub.execute_input": "2021-05-30T12:40:43.851586Z",
     "iopub.status.busy": "2021-05-30T12:40:43.850614Z",
     "iopub.status.idle": "2021-05-30T12:40:44.045520Z",
     "shell.execute_reply": "2021-05-30T12:40:44.045013Z",
     "shell.execute_reply.started": "2021-05-30T12:12:26.833890Z"
    },
    "papermill": {
     "duration": 0.224503,
     "end_time": "2021-05-30T12:40:44.045660",
     "exception": false,
     "start_time": "2021-05-30T12:40:43.821157",
     "status": "completed"
    },
    "tags": []
   },
   "outputs": [
    {
     "data": {
      "text/html": [
       "<div>\n",
       "<style scoped>\n",
       "    .dataframe tbody tr th:only-of-type {\n",
       "        vertical-align: middle;\n",
       "    }\n",
       "\n",
       "    .dataframe tbody tr th {\n",
       "        vertical-align: top;\n",
       "    }\n",
       "\n",
       "    .dataframe thead th {\n",
       "        text-align: right;\n",
       "    }\n",
       "</style>\n",
       "<table border=\"1\" class=\"dataframe\">\n",
       "  <thead>\n",
       "    <tr style=\"text-align: right;\">\n",
       "      <th></th>\n",
       "      <th>Product_Code</th>\n",
       "      <th>Warehouse</th>\n",
       "      <th>Product_Category</th>\n",
       "      <th>Date</th>\n",
       "      <th>Order_Demand</th>\n",
       "    </tr>\n",
       "  </thead>\n",
       "  <tbody>\n",
       "    <tr>\n",
       "      <th>75193</th>\n",
       "      <td>Product_0642</td>\n",
       "      <td>Whse_C</td>\n",
       "      <td>Category_019</td>\n",
       "      <td>2011-10-31</td>\n",
       "      <td>3</td>\n",
       "    </tr>\n",
       "    <tr>\n",
       "      <th>121820</th>\n",
       "      <td>Product_0202</td>\n",
       "      <td>Whse_A</td>\n",
       "      <td>Category_007</td>\n",
       "      <td>2011-11-04</td>\n",
       "      <td>100</td>\n",
       "    </tr>\n",
       "    <tr>\n",
       "      <th>121819</th>\n",
       "      <td>Product_0202</td>\n",
       "      <td>Whse_A</td>\n",
       "      <td>Category_007</td>\n",
       "      <td>2011-11-04</td>\n",
       "      <td>400</td>\n",
       "    </tr>\n",
       "    <tr>\n",
       "      <th>131028</th>\n",
       "      <td>Product_2143</td>\n",
       "      <td>Whse_S</td>\n",
       "      <td>Category_009</td>\n",
       "      <td>2011-11-18</td>\n",
       "      <td>25</td>\n",
       "    </tr>\n",
       "    <tr>\n",
       "      <th>131031</th>\n",
       "      <td>Product_0131</td>\n",
       "      <td>Whse_S</td>\n",
       "      <td>Category_021</td>\n",
       "      <td>2011-11-18</td>\n",
       "      <td>12</td>\n",
       "    </tr>\n",
       "    <tr>\n",
       "      <th>131032</th>\n",
       "      <td>Product_0288</td>\n",
       "      <td>Whse_S</td>\n",
       "      <td>Category_021</td>\n",
       "      <td>2011-11-18</td>\n",
       "      <td>50</td>\n",
       "    </tr>\n",
       "    <tr>\n",
       "      <th>44450</th>\n",
       "      <td>Product_0980</td>\n",
       "      <td>Whse_A</td>\n",
       "      <td>Category_028</td>\n",
       "      <td>2011-11-18</td>\n",
       "      <td>4000</td>\n",
       "    </tr>\n",
       "    <tr>\n",
       "      <th>131027</th>\n",
       "      <td>Product_2138</td>\n",
       "      <td>Whse_S</td>\n",
       "      <td>Category_009</td>\n",
       "      <td>2011-11-18</td>\n",
       "      <td>49</td>\n",
       "    </tr>\n",
       "    <tr>\n",
       "      <th>131026</th>\n",
       "      <td>Product_2137</td>\n",
       "      <td>Whse_S</td>\n",
       "      <td>Category_009</td>\n",
       "      <td>2011-11-18</td>\n",
       "      <td>25</td>\n",
       "    </tr>\n",
       "    <tr>\n",
       "      <th>44795</th>\n",
       "      <td>Product_0965</td>\n",
       "      <td>Whse_A</td>\n",
       "      <td>Category_006</td>\n",
       "      <td>2011-11-18</td>\n",
       "      <td>1</td>\n",
       "    </tr>\n",
       "  </tbody>\n",
       "</table>\n",
       "</div>"
      ],
      "text/plain": [
       "        Product_Code Warehouse Product_Category       Date  Order_Demand\n",
       "75193   Product_0642    Whse_C     Category_019 2011-10-31             3\n",
       "121820  Product_0202    Whse_A     Category_007 2011-11-04           100\n",
       "121819  Product_0202    Whse_A     Category_007 2011-11-04           400\n",
       "131028  Product_2143    Whse_S     Category_009 2011-11-18            25\n",
       "131031  Product_0131    Whse_S     Category_021 2011-11-18            12\n",
       "131032  Product_0288    Whse_S     Category_021 2011-11-18            50\n",
       "44450   Product_0980    Whse_A     Category_028 2011-11-18          4000\n",
       "131027  Product_2138    Whse_S     Category_009 2011-11-18            49\n",
       "131026  Product_2137    Whse_S     Category_009 2011-11-18            25\n",
       "44795   Product_0965    Whse_A     Category_006 2011-11-18             1"
      ]
     },
     "execution_count": 8,
     "metadata": {},
     "output_type": "execute_result"
    }
   ],
   "source": [
    "df.sort_values('Date')[10:20]"
   ]
  },
  {
   "cell_type": "code",
   "execution_count": 9,
   "id": "plastic-coast",
   "metadata": {
    "execution": {
     "iopub.execute_input": "2021-05-30T12:40:44.102102Z",
     "iopub.status.busy": "2021-05-30T12:40:44.101136Z",
     "iopub.status.idle": "2021-05-30T12:40:44.114920Z",
     "shell.execute_reply": "2021-05-30T12:40:44.114271Z",
     "shell.execute_reply.started": "2021-05-30T12:12:27.028595Z"
    },
    "papermill": {
     "duration": 0.0429,
     "end_time": "2021-05-30T12:40:44.115077",
     "exception": false,
     "start_time": "2021-05-30T12:40:44.072177",
     "status": "completed"
    },
    "tags": []
   },
   "outputs": [
    {
     "data": {
      "text/plain": [
       "(Timestamp('2011-01-08 00:00:00'), Timestamp('2017-01-09 00:00:00'))"
      ]
     },
     "execution_count": 9,
     "metadata": {},
     "output_type": "execute_result"
    }
   ],
   "source": [
    "#Get the Hieghest and lowest dates in the dataset.\n",
    "df['Date'].min() , df['Date'].max()"
   ]
  },
  {
   "cell_type": "code",
   "execution_count": 10,
   "id": "beneficial-likelihood",
   "metadata": {
    "execution": {
     "iopub.execute_input": "2021-05-30T12:40:44.174821Z",
     "iopub.status.busy": "2021-05-30T12:40:44.174143Z",
     "iopub.status.idle": "2021-05-30T12:40:51.413955Z",
     "shell.execute_reply": "2021-05-30T12:40:51.414428Z",
     "shell.execute_reply.started": "2021-05-30T12:12:27.050350Z"
    },
    "papermill": {
     "duration": 7.272879,
     "end_time": "2021-05-30T12:40:51.414609",
     "exception": false,
     "start_time": "2021-05-30T12:40:44.141730",
     "status": "completed"
    },
    "tags": []
   },
   "outputs": [
    {
     "name": "stderr",
     "output_type": "stream",
     "text": [
      "/opt/conda/lib/python3.7/site-packages/seaborn/distributions.py:2557: FutureWarning: `distplot` is a deprecated function and will be removed in a future version. Please adapt your code to use either `displot` (a figure-level function with similar flexibility) or `histplot` (an axes-level function for histograms).\n",
      "  warnings.warn(msg, FutureWarning)\n"
     ]
    },
    {
     "data": {
      "image/png": "[encoded data removed]",
      "text/plain": [
       "<Figure size 720x360 with 1 Axes>"
      ]
     },
     "metadata": {
      "needs_background": "light"
     },
     "output_type": "display_data"
    },
    {
     "data": {
      "image/png": "[encoded data removed]",
      "text/plain": [
       "<Figure size 720x360 with 1 Axes>"
      ]
     },
     "metadata": {
      "needs_background": "light"
     },
     "output_type": "display_data"
    }
   ],
   "source": [
    "from scipy.stats import norm, skew #Import Norm and skew for some statistics\n",
    "from scipy import stats #Import stats\n",
    "import statsmodels.api as sm #for decomposing the trends, seasonality etc.\n",
    "\n",
    "from statsmodels.tsa.statespace.sarimax import SARIMAX #for the Seasonal Forecast\n",
    "\n",
    "\n",
    "#Lets check the ditribution of the target variable (Order_Demand)\n",
    "from matplotlib import rcParams\n",
    "# figure size in inches\n",
    "rcParams['figure.figsize'] = 10,5\n",
    "\n",
    "sn.distplot(df['Order_Demand'],fit=norm)\n",
    "\n",
    "#Get the QQ-plot\n",
    "fig = plt.figure()\n",
    "res = stats.probplot(df['Order_Demand'], plot=plt)\n",
    "plt.show()"
   ]
  },
  {
   "cell_type": "code",
   "execution_count": 11,
   "id": "fundamental-mobility",
   "metadata": {
    "execution": {
     "iopub.execute_input": "2021-05-30T12:40:51.475592Z",
     "iopub.status.busy": "2021-05-30T12:40:51.474931Z",
     "iopub.status.idle": "2021-05-30T12:40:51.708961Z",
     "shell.execute_reply": "2021-05-30T12:40:51.709426Z",
     "shell.execute_reply.started": "2021-05-30T12:12:33.056154Z"
    },
    "papermill": {
     "duration": 0.266203,
     "end_time": "2021-05-30T12:40:51.709607",
     "exception": false,
     "start_time": "2021-05-30T12:40:51.443404",
     "status": "completed"
    },
    "tags": []
   },
   "outputs": [
    {
     "data": {
      "text/plain": [
       "Whse_J    764447\n",
       "Whse_A    142335\n",
       "Whse_S     88200\n",
       "Whse_C     42354\n",
       "Name: Warehouse, dtype: int64"
      ]
     },
     "execution_count": 11,
     "metadata": {},
     "output_type": "execute_result"
    }
   ],
   "source": [
    "df['Warehouse'].value_counts().sort_values(ascending=False)"
   ]
  },
  {
   "cell_type": "code",
   "execution_count": 12,
   "id": "failing-substance",
   "metadata": {
    "execution": {
     "iopub.execute_input": "2021-05-30T12:40:51.770772Z",
     "iopub.status.busy": "2021-05-30T12:40:51.770146Z",
     "iopub.status.idle": "2021-05-30T12:40:51.910119Z",
     "shell.execute_reply": "2021-05-30T12:40:51.909434Z",
     "shell.execute_reply.started": "2021-05-30T12:12:33.154611Z"
    },
    "papermill": {
     "duration": 0.171755,
     "end_time": "2021-05-30T12:40:51.910258",
     "exception": false,
     "start_time": "2021-05-30T12:40:51.738503",
     "status": "completed"
    },
    "tags": []
   },
   "outputs": [
    {
     "data": {
      "text/html": [
       "<div>\n",
       "<style scoped>\n",
       "    .dataframe tbody tr th:only-of-type {\n",
       "        vertical-align: middle;\n",
       "    }\n",
       "\n",
       "    .dataframe tbody tr th {\n",
       "        vertical-align: top;\n",
       "    }\n",
       "\n",
       "    .dataframe thead th {\n",
       "        text-align: right;\n",
       "    }\n",
       "</style>\n",
       "<table border=\"1\" class=\"dataframe\">\n",
       "  <thead>\n",
       "    <tr style=\"text-align: right;\">\n",
       "      <th></th>\n",
       "      <th>Order_Demand</th>\n",
       "    </tr>\n",
       "    <tr>\n",
       "      <th>Warehouse</th>\n",
       "      <th></th>\n",
       "    </tr>\n",
       "  </thead>\n",
       "  <tbody>\n",
       "    <tr>\n",
       "      <th>Whse_J</th>\n",
       "      <td>3363200396</td>\n",
       "    </tr>\n",
       "    <tr>\n",
       "      <th>Whse_S</th>\n",
       "      <td>1038024700</td>\n",
       "    </tr>\n",
       "    <tr>\n",
       "      <th>Whse_C</th>\n",
       "      <td>585071404</td>\n",
       "    </tr>\n",
       "    <tr>\n",
       "      <th>Whse_A</th>\n",
       "      <td>147877431</td>\n",
       "    </tr>\n",
       "  </tbody>\n",
       "</table>\n",
       "</div>"
      ],
      "text/plain": [
       "           Order_Demand\n",
       "Warehouse              \n",
       "Whse_J       3363200396\n",
       "Whse_S       1038024700\n",
       "Whse_C        585071404\n",
       "Whse_A        147877431"
      ]
     },
     "execution_count": 12,
     "metadata": {},
     "output_type": "execute_result"
    }
   ],
   "source": [
    "#Now I will get the amount of orders shipped by each warehouse.\n",
    "df.groupby('Warehouse').sum().sort_values('Order_Demand', ascending = False)"
   ]
  },
  {
   "cell_type": "code",
   "execution_count": 13,
   "id": "behind-cigarette",
   "metadata": {
    "execution": {
     "iopub.execute_input": "2021-05-30T12:40:51.989841Z",
     "iopub.status.busy": "2021-05-30T12:40:51.988877Z",
     "iopub.status.idle": "2021-05-30T12:40:52.126846Z",
     "shell.execute_reply": "2021-05-30T12:40:52.126238Z",
     "shell.execute_reply.started": "2021-05-30T12:14:58.504991Z"
    },
    "papermill": {
     "duration": 0.187382,
     "end_time": "2021-05-30T12:40:52.126984",
     "exception": false,
     "start_time": "2021-05-30T12:40:51.939602",
     "status": "completed"
    },
    "tags": []
   },
   "outputs": [],
   "source": [
    "df['Date'] = pd.to_datetime(df['Date'])\n",
    "df['Year'] = df['Date'].dt.year"
   ]
  },
  {
   "cell_type": "code",
   "execution_count": 14,
   "id": "entire-source",
   "metadata": {
    "execution": {
     "iopub.execute_input": "2021-05-30T12:40:52.193457Z",
     "iopub.status.busy": "2021-05-30T12:40:52.191435Z",
     "iopub.status.idle": "2021-05-30T12:40:52.332038Z",
     "shell.execute_reply": "2021-05-30T12:40:52.331447Z",
     "shell.execute_reply.started": "2021-05-30T12:15:02.444983Z"
    },
    "papermill": {
     "duration": 0.176413,
     "end_time": "2021-05-30T12:40:52.332182",
     "exception": false,
     "start_time": "2021-05-30T12:40:52.155769",
     "status": "completed"
    },
    "tags": []
   },
   "outputs": [],
   "source": [
    "df2 = df[['Year', 'Warehouse', 'Order_Demand']].groupby(['Year', 'Warehouse'], as_index=False).count()"
   ]
  },
  {
   "cell_type": "code",
   "execution_count": 15,
   "id": "biblical-essay",
   "metadata": {
    "execution": {
     "iopub.execute_input": "2021-05-30T12:40:52.404135Z",
     "iopub.status.busy": "2021-05-30T12:40:52.403179Z",
     "iopub.status.idle": "2021-05-30T12:40:52.406686Z",
     "shell.execute_reply": "2021-05-30T12:40:52.406173Z",
     "shell.execute_reply.started": "2021-05-30T12:16:54.155683Z"
    },
    "papermill": {
     "duration": 0.045598,
     "end_time": "2021-05-30T12:40:52.406837",
     "exception": false,
     "start_time": "2021-05-30T12:40:52.361239",
     "status": "completed"
    },
    "tags": []
   },
   "outputs": [],
   "source": [
    "df2  = df2.pivot(index='Year', columns='Warehouse', values='Order_Demand')"
   ]
  },
  {
   "cell_type": "code",
   "execution_count": 16,
   "id": "collective-singapore",
   "metadata": {
    "execution": {
     "iopub.execute_input": "2021-05-30T12:40:52.471155Z",
     "iopub.status.busy": "2021-05-30T12:40:52.470352Z",
     "iopub.status.idle": "2021-05-30T12:40:52.773781Z",
     "shell.execute_reply": "2021-05-30T12:40:52.773241Z",
     "shell.execute_reply.started": "2021-05-30T12:17:33.160808Z"
    },
    "papermill": {
     "duration": 0.338095,
     "end_time": "2021-05-30T12:40:52.773931",
     "exception": false,
     "start_time": "2021-05-30T12:40:52.435836",
     "status": "completed"
    },
    "tags": []
   },
   "outputs": [
    {
     "data": {
      "image/png": "[encoded data removed]",
      "text/plain": [
       "<Figure size 1440x720 with 1 Axes>"
      ]
     },
     "metadata": {
      "needs_background": "light"
     },
     "output_type": "display_data"
    }
   ],
   "source": [
    "df2.index = df2.index.map(int) # let's change the index values of df2 to type integer for plotting\n",
    "df2.plot(kind='area', stacked=False, figsize=(20, 10))\n",
    "\n",
    "plt.title('Order_Demand Trend')\n",
    "plt.ylabel('Number of Order_Demand')\n",
    "plt.xlabel('Years')\n",
    "plt.show()"
   ]
  },
  {
   "cell_type": "code",
   "execution_count": 17,
   "id": "listed-disposition",
   "metadata": {
    "execution": {
     "iopub.execute_input": "2021-05-30T12:40:52.846982Z",
     "iopub.status.busy": "2021-05-30T12:40:52.846106Z",
     "iopub.status.idle": "2021-05-30T12:40:53.032320Z",
     "shell.execute_reply": "2021-05-30T12:40:53.031765Z",
     "shell.execute_reply.started": "2021-05-30T12:18:02.540491Z"
    },
    "papermill": {
     "duration": 0.225964,
     "end_time": "2021-05-30T12:40:53.032454",
     "exception": false,
     "start_time": "2021-05-30T12:40:52.806490",
     "status": "completed"
    },
    "tags": []
   },
   "outputs": [
    {
     "ename": "KeyError",
     "evalue": "'Total'",
     "output_type": "error",
     "traceback": [
      "\u001b[0;31m---------------------------------------------------------------------------\u001b[0m",
      "\u001b[0;31mKeyError\u001b[0m                                  Traceback (most recent call last)",
      "\u001b[0;32m/opt/conda/lib/python3.7/site-packages/pandas/core/indexes/base.py\u001b[0m in \u001b[0;36mget_loc\u001b[0;34m(self, key, method, tolerance)\u001b[0m\n\u001b[1;32m   3079\u001b[0m             \u001b[0;32mtry\u001b[0m\u001b[0;34m:\u001b[0m\u001b[0;34m\u001b[0m\u001b[0;34m\u001b[0m\u001b[0m\n\u001b[0;32m-> 3080\u001b[0;31m                 \u001b[0;32mreturn\u001b[0m \u001b[0mself\u001b[0m\u001b[0;34m.\u001b[0m\u001b[0m_engine\u001b[0m\u001b[0;34m.\u001b[0m\u001b[0mget_loc\u001b[0m\u001b[0;34m(\u001b[0m\u001b[0mcasted_key\u001b[0m\u001b[0;34m)\u001b[0m\u001b[0;34m\u001b[0m\u001b[0;34m\u001b[0m\u001b[0m\n\u001b[0m\u001b[1;32m   3081\u001b[0m             \u001b[0;32mexcept\u001b[0m \u001b[0mKeyError\u001b[0m \u001b[0;32mas\u001b[0m \u001b[0merr\u001b[0m\u001b[0;34m:\u001b[0m\u001b[0;34m\u001b[0m\u001b[0;34m\u001b[0m\u001b[0m\n",
      "\u001b[0;32mpandas/_libs/index.pyx\u001b[0m in \u001b[0;36mpandas._libs.index.IndexEngine.get_loc\u001b[0;34m()\u001b[0m\n",
      "\u001b[0;32mpandas/_libs/index.pyx\u001b[0m in \u001b[0;36mpandas._libs.index.IndexEngine.get_loc\u001b[0;34m()\u001b[0m\n",
      "\u001b[0;32mpandas/_libs/hashtable_class_helper.pxi\u001b[0m in \u001b[0;36mpandas._libs.hashtable.PyObjectHashTable.get_item\u001b[0;34m()\u001b[0m\n",
      "\u001b[0;32mpandas/_libs/hashtable_class_helper.pxi\u001b[0m in \u001b[0;36mpandas._libs.hashtable.PyObjectHashTable.get_item\u001b[0;34m()\u001b[0m\n",
      "\u001b[0;31mKeyError\u001b[0m: 'Total'",
      "\nThe above exception was the direct cause of the following exception:\n",
      "\u001b[0;31mKeyError\u001b[0m                                  Traceback (most recent call last)",
      "\u001b[0;32m<ipython-input-17-c0a29ccb4c50>\u001b[0m in \u001b[0;36m<module>\u001b[0;34m\u001b[0m\n\u001b[1;32m      2\u001b[0m \u001b[0mexplode_list\u001b[0m \u001b[0;34m=\u001b[0m \u001b[0;34m[\u001b[0m\u001b[0;36m0.2\u001b[0m\u001b[0;34m,\u001b[0m \u001b[0;36m0\u001b[0m\u001b[0;34m,\u001b[0m \u001b[0;36m0\u001b[0m\u001b[0;34m,\u001b[0m \u001b[0;36m0\u001b[0m\u001b[0;34m,\u001b[0m \u001b[0;36m0\u001b[0m\u001b[0;34m,\u001b[0m \u001b[0;36m0\u001b[0m\u001b[0;34m,\u001b[0m \u001b[0;36m0.2\u001b[0m\u001b[0;34m]\u001b[0m \u001b[0;31m# ratio for each year with which to offset each wedge.\u001b[0m\u001b[0;34m\u001b[0m\u001b[0;34m\u001b[0m\u001b[0m\n\u001b[1;32m      3\u001b[0m \u001b[0;34m\u001b[0m\u001b[0m\n\u001b[0;32m----> 4\u001b[0;31m df2['Total'].plot(kind='pie',\n\u001b[0m\u001b[1;32m      5\u001b[0m                             \u001b[0mfigsize\u001b[0m\u001b[0;34m=\u001b[0m\u001b[0;34m(\u001b[0m\u001b[0;36m15\u001b[0m\u001b[0;34m,\u001b[0m \u001b[0;36m6\u001b[0m\u001b[0;34m)\u001b[0m\u001b[0;34m,\u001b[0m\u001b[0;34m\u001b[0m\u001b[0;34m\u001b[0m\u001b[0m\n\u001b[1;32m      6\u001b[0m                             \u001b[0mautopct\u001b[0m\u001b[0;34m=\u001b[0m\u001b[0;34m'%1.1f%%'\u001b[0m\u001b[0;34m,\u001b[0m\u001b[0;34m\u001b[0m\u001b[0;34m\u001b[0m\u001b[0m\n",
      "\u001b[0;32m/opt/conda/lib/python3.7/site-packages/pandas/core/frame.py\u001b[0m in \u001b[0;36m__getitem__\u001b[0;34m(self, key)\u001b[0m\n\u001b[1;32m   3022\u001b[0m             \u001b[0;32mif\u001b[0m \u001b[0mself\u001b[0m\u001b[0;34m.\u001b[0m\u001b[0mcolumns\u001b[0m\u001b[0;34m.\u001b[0m\u001b[0mnlevels\u001b[0m \u001b[0;34m>\u001b[0m \u001b[0;36m1\u001b[0m\u001b[0;34m:\u001b[0m\u001b[0;34m\u001b[0m\u001b[0;34m\u001b[0m\u001b[0m\n\u001b[1;32m   3023\u001b[0m                 \u001b[0;32mreturn\u001b[0m \u001b[0mself\u001b[0m\u001b[0;34m.\u001b[0m\u001b[0m_getitem_multilevel\u001b[0m\u001b[0;34m(\u001b[0m\u001b[0mkey\u001b[0m\u001b[0;34m)\u001b[0m\u001b[0;34m\u001b[0m\u001b[0;34m\u001b[0m\u001b[0m\n\u001b[0;32m-> 3024\u001b[0;31m             \u001b[0mindexer\u001b[0m \u001b[0;34m=\u001b[0m \u001b[0mself\u001b[0m\u001b[0;34m.\u001b[0m\u001b[0mcolumns\u001b[0m\u001b[0;34m.\u001b[0m\u001b[0mget_loc\u001b[0m\u001b[0;34m(\u001b[0m\u001b[0mkey\u001b[0m\u001b[0;34m)\u001b[0m\u001b[0;34m\u001b[0m\u001b[0;34m\u001b[0m\u001b[0m\n\u001b[0m\u001b[1;32m   3025\u001b[0m             \u001b[0;32mif\u001b[0m \u001b[0mis_integer\u001b[0m\u001b[0;34m(\u001b[0m\u001b[0mindexer\u001b[0m\u001b[0;34m)\u001b[0m\u001b[0;34m:\u001b[0m\u001b[0;34m\u001b[0m\u001b[0;34m\u001b[0m\u001b[0m\n\u001b[1;32m   3026\u001b[0m                 \u001b[0mindexer\u001b[0m \u001b[0;34m=\u001b[0m \u001b[0;34m[\u001b[0m\u001b[0mindexer\u001b[0m\u001b[0;34m]\u001b[0m\u001b[0;34m\u001b[0m\u001b[0;34m\u001b[0m\u001b[0m\n",
      "\u001b[0;32m/opt/conda/lib/python3.7/site-packages/pandas/core/indexes/base.py\u001b[0m in \u001b[0;36mget_loc\u001b[0;34m(self, key, method, tolerance)\u001b[0m\n\u001b[1;32m   3080\u001b[0m                 \u001b[0;32mreturn\u001b[0m \u001b[0mself\u001b[0m\u001b[0;34m.\u001b[0m\u001b[0m_engine\u001b[0m\u001b[0;34m.\u001b[0m\u001b[0mget_loc\u001b[0m\u001b[0;34m(\u001b[0m\u001b[0mcasted_key\u001b[0m\u001b[0;34m)\u001b[0m\u001b[0;34m\u001b[0m\u001b[0;34m\u001b[0m\u001b[0m\n\u001b[1;32m   3081\u001b[0m             \u001b[0;32mexcept\u001b[0m \u001b[0mKeyError\u001b[0m \u001b[0;32mas\u001b[0m \u001b[0merr\u001b[0m\u001b[0;34m:\u001b[0m\u001b[0;34m\u001b[0m\u001b[0;34m\u001b[0m\u001b[0m\n\u001b[0;32m-> 3082\u001b[0;31m                 \u001b[0;32mraise\u001b[0m \u001b[0mKeyError\u001b[0m\u001b[0;34m(\u001b[0m\u001b[0mkey\u001b[0m\u001b[0;34m)\u001b[0m \u001b[0;32mfrom\u001b[0m \u001b[0merr\u001b[0m\u001b[0;34m\u001b[0m\u001b[0;34m\u001b[0m\u001b[0m\n\u001b[0m\u001b[1;32m   3083\u001b[0m \u001b[0;34m\u001b[0m\u001b[0m\n\u001b[1;32m   3084\u001b[0m         \u001b[0;32mif\u001b[0m \u001b[0mtolerance\u001b[0m \u001b[0;32mis\u001b[0m \u001b[0;32mnot\u001b[0m \u001b[0;32mNone\u001b[0m\u001b[0;34m:\u001b[0m\u001b[0;34m\u001b[0m\u001b[0;34m\u001b[0m\u001b[0m\n",
      "\u001b[0;31mKeyError\u001b[0m: 'Total'"
     ]
    }
   ],
   "source": [
    "colors_list = ['gold', 'yellowgreen', 'lightcoral', 'lightskyblue', 'lightgreen', 'pink', 'red']\n",
    "explode_list = [0.2, 0, 0, 0, 0, 0, 0.2] # ratio for each year with which to offset each wedge.\n",
    "\n",
    "df2['Total'].plot(kind='pie',\n",
    "                            figsize=(15, 6),\n",
    "                            autopct='%1.1f%%', \n",
    "                            startangle=90,    \n",
    "                            shadow=True,       \n",
    "                            labels=None,         # turn off labels on pie chart\n",
    "                            pctdistance=1.12,    # the ratio between the center of each pie slice and the start of the text generated by autopct \n",
    "                            colors=colors_list,  # add custom colors\n",
    "                            explode=explode_list \n",
    "                            )\n",
    "\n",
    "# scale the title up by 12% to match pctdistance\n",
    "plt.title('Order_Demand Trend [2011 - 2017]', y=1.12) \n",
    "\n",
    "plt.axis('equal') \n",
    "\n",
    "# add legend\n",
    "plt.legend(labels=df2.index, loc='upper left') \n",
    "\n",
    "plt.show()\n"
   ]
  },
  {
   "cell_type": "code",
   "execution_count": 18,
   "id": "turkish-admission",
   "metadata": {
    "execution": {
     "iopub.execute_input": "2021-05-30T12:40:53.120621Z",
     "iopub.status.busy": "2021-05-30T12:40:53.119575Z",
     "iopub.status.idle": "2021-05-30T12:40:55.204492Z",
     "shell.execute_reply": "2021-05-30T12:40:55.203800Z",
     "shell.execute_reply.started": "2021-05-30T12:18:17.979892Z"
    },
    "papermill": {
     "duration": 2.139342,
     "end_time": "2021-05-30T12:40:55.204640",
     "exception": false,
     "start_time": "2021-05-30T12:40:53.065298",
     "status": "completed"
    },
    "tags": []
   },
   "outputs": [
    {
     "name": "stderr",
     "output_type": "stream",
     "text": [
      "/opt/conda/lib/python3.7/site-packages/seaborn/_decorators.py:43: FutureWarning: Pass the following variables as keyword args: x, y. From version 0.12, the only valid positional argument will be `data`, and passing other arguments without an explicit keyword will result in an error or misinterpretation.\n",
      "  FutureWarning\n",
      "/opt/conda/lib/python3.7/site-packages/seaborn/_decorators.py:43: FutureWarning: Pass the following variables as keyword args: x, y. From version 0.12, the only valid positional argument will be `data`, and passing other arguments without an explicit keyword will result in an error or misinterpretation.\n",
      "  FutureWarning\n"
     ]
    },
    {
     "data": {
      "image/png": "[encoded data removed]",
      "text/plain": [
       "<Figure size 1440x360 with 2 Axes>"
      ]
     },
     "metadata": {
      "needs_background": "light"
     },
     "output_type": "display_data"
    }
   ],
   "source": [
    "rcParams['figure.figsize']=20,5 #Figure Size in Inches for Plotting\n",
    "f, axes = plt.subplots(1,2)\n",
    "normalDW=sn.boxplot(df['Warehouse'],df['Order_Demand'],ax=axes[0]) #Create a variable for Regular Data for WH and OD \n",
    "\n",
    "logWH=sn.boxplot(df['Warehouse'],np.log1p(df['Order_Demand']),ax=axes[1]) #Craete a Variable with Log Transformation\n"
   ]
  },
  {
   "cell_type": "code",
   "execution_count": 19,
   "id": "congressional-holly",
   "metadata": {
    "execution": {
     "iopub.execute_input": "2021-05-30T12:40:55.278430Z",
     "iopub.status.busy": "2021-05-30T12:40:55.277685Z",
     "iopub.status.idle": "2021-05-30T12:40:55.593963Z",
     "shell.execute_reply": "2021-05-30T12:40:55.593426Z",
     "shell.execute_reply.started": "2021-05-30T12:18:25.870756Z"
    },
    "papermill": {
     "duration": 0.35583,
     "end_time": "2021-05-30T12:40:55.594098",
     "exception": false,
     "start_time": "2021-05-30T12:40:55.238268",
     "status": "completed"
    },
    "tags": []
   },
   "outputs": [
    {
     "data": {
      "image/png": "[encoded data removed]",
      "text/plain": [
       "<Figure size 1440x720 with 1 Axes>"
      ]
     },
     "metadata": {
      "needs_background": "light"
     },
     "output_type": "display_data"
    }
   ],
   "source": [
    "df=df.groupby('Date')['Order_Demand'].sum().reset_index()\n",
    "#Step-02: Indexing the Date Column as for further procssing.\n",
    "df = df.set_index('Date')\n",
    "df.index #Lets check the index\n",
    "#Step-03:#Averages daily sales value for the month, and we are using the start of each month as the timestamp.\n",
    "monthly_avg_sales = df['Order_Demand'].resample('MS').mean()\n",
    "#In case there are Null values, they can be imputed using bfill.\n",
    "monthly_avg_sales = monthly_avg_sales.fillna(monthly_avg_sales.bfill())\n",
    "#Visualizing time series.\n",
    "\n",
    "monthly_avg_sales.plot(figsize=(20,10))\n",
    "plt.show()"
   ]
  },
  {
   "cell_type": "markdown",
   "id": "cathedral-mouth",
   "metadata": {
    "papermill": {
     "duration": 0.034786,
     "end_time": "2021-05-30T12:40:55.663981",
     "exception": false,
     "start_time": "2021-05-30T12:40:55.629195",
     "status": "completed"
    },
    "tags": []
   },
   "source": [
    "**Displaying the trends with their seasons**"
   ]
  },
  {
   "cell_type": "code",
   "execution_count": 20,
   "id": "female-immigration",
   "metadata": {
    "execution": {
     "iopub.execute_input": "2021-05-30T12:40:55.739375Z",
     "iopub.status.busy": "2021-05-30T12:40:55.738742Z",
     "iopub.status.idle": "2021-05-30T12:40:56.401488Z",
     "shell.execute_reply": "2021-05-30T12:40:56.402032Z",
     "shell.execute_reply.started": "2021-05-30T12:18:31.665036Z"
    },
    "papermill": {
     "duration": 0.703505,
     "end_time": "2021-05-30T12:40:56.402198",
     "exception": false,
     "start_time": "2021-05-30T12:40:55.698693",
     "status": "completed"
    },
    "tags": []
   },
   "outputs": [
    {
     "data": {
      "image/png": "[encoded data removed]",
      "text/plain": [
       "<Figure size 1440x720 with 4 Axes>"
      ]
     },
     "metadata": {
      "needs_background": "light"
     },
     "output_type": "display_data"
    }
   ],
   "source": [
    "#Using Time Series for Decomposition. \n",
    "from pylab import rcParams\n",
    "import statsmodels.api as sm\n",
    "rcParams['figure.figsize'] = 20, 10\n",
    "decomposition = sm.tsa.seasonal_decompose(monthly_avg_sales, model='additive')\n",
    "fig = decomposition.plot()\n",
    "plt.show()"
   ]
  },
  {
   "cell_type": "code",
   "execution_count": 21,
   "id": "dangerous-peninsula",
   "metadata": {
    "execution": {
     "iopub.execute_input": "2021-05-30T12:40:56.488421Z",
     "iopub.status.busy": "2021-05-30T12:40:56.487466Z",
     "iopub.status.idle": "2021-05-30T12:40:56.491943Z",
     "shell.execute_reply": "2021-05-30T12:40:56.491420Z",
     "shell.execute_reply.started": "2021-05-30T12:18:37.085039Z"
    },
    "papermill": {
     "duration": 0.05162,
     "end_time": "2021-05-30T12:40:56.492083",
     "exception": false,
     "start_time": "2021-05-30T12:40:56.440463",
     "status": "completed"
    },
    "tags": []
   },
   "outputs": [
    {
     "data": {
      "text/html": [
       "<div>\n",
       "<style scoped>\n",
       "    .dataframe tbody tr th:only-of-type {\n",
       "        vertical-align: middle;\n",
       "    }\n",
       "\n",
       "    .dataframe tbody tr th {\n",
       "        vertical-align: top;\n",
       "    }\n",
       "\n",
       "    .dataframe thead th {\n",
       "        text-align: right;\n",
       "    }\n",
       "</style>\n",
       "<table border=\"1\" class=\"dataframe\">\n",
       "  <thead>\n",
       "    <tr style=\"text-align: right;\">\n",
       "      <th></th>\n",
       "      <th>Order_Demand</th>\n",
       "    </tr>\n",
       "    <tr>\n",
       "      <th>Date</th>\n",
       "      <th></th>\n",
       "    </tr>\n",
       "  </thead>\n",
       "  <tbody>\n",
       "    <tr>\n",
       "      <th>2011-01-08</th>\n",
       "      <td>2</td>\n",
       "    </tr>\n",
       "    <tr>\n",
       "      <th>2011-05-31</th>\n",
       "      <td>108</td>\n",
       "    </tr>\n",
       "    <tr>\n",
       "      <th>2011-06-24</th>\n",
       "      <td>92000</td>\n",
       "    </tr>\n",
       "    <tr>\n",
       "      <th>2011-09-02</th>\n",
       "      <td>1250</td>\n",
       "    </tr>\n",
       "    <tr>\n",
       "      <th>2011-09-27</th>\n",
       "      <td>28</td>\n",
       "    </tr>\n",
       "  </tbody>\n",
       "</table>\n",
       "</div>"
      ],
      "text/plain": [
       "            Order_Demand\n",
       "Date                    \n",
       "2011-01-08             2\n",
       "2011-05-31           108\n",
       "2011-06-24         92000\n",
       "2011-09-02          1250\n",
       "2011-09-27            28"
      ]
     },
     "execution_count": 21,
     "metadata": {},
     "output_type": "execute_result"
    }
   ],
   "source": [
    "df.head()"
   ]
  },
  {
   "cell_type": "code",
   "execution_count": 22,
   "id": "presidential-isaac",
   "metadata": {
    "execution": {
     "iopub.execute_input": "2021-05-30T12:40:56.581111Z",
     "iopub.status.busy": "2021-05-30T12:40:56.580440Z",
     "iopub.status.idle": "2021-05-30T12:40:56.583300Z",
     "shell.execute_reply": "2021-05-30T12:40:56.583870Z",
     "shell.execute_reply.started": "2021-05-30T12:18:44.560501Z"
    },
    "papermill": {
     "duration": 0.053627,
     "end_time": "2021-05-30T12:40:56.584043",
     "exception": false,
     "start_time": "2021-05-30T12:40:56.530416",
     "status": "completed"
    },
    "tags": []
   },
   "outputs": [
    {
     "data": {
      "text/html": [
       "<div>\n",
       "<style scoped>\n",
       "    .dataframe tbody tr th:only-of-type {\n",
       "        vertical-align: middle;\n",
       "    }\n",
       "\n",
       "    .dataframe tbody tr th {\n",
       "        vertical-align: top;\n",
       "    }\n",
       "\n",
       "    .dataframe thead th {\n",
       "        text-align: right;\n",
       "    }\n",
       "</style>\n",
       "<table border=\"1\" class=\"dataframe\">\n",
       "  <thead>\n",
       "    <tr style=\"text-align: right;\">\n",
       "      <th>Warehouse</th>\n",
       "      <th>Whse_A</th>\n",
       "      <th>Whse_C</th>\n",
       "      <th>Whse_J</th>\n",
       "      <th>Whse_S</th>\n",
       "    </tr>\n",
       "    <tr>\n",
       "      <th>Year</th>\n",
       "      <th></th>\n",
       "      <th></th>\n",
       "      <th></th>\n",
       "      <th></th>\n",
       "    </tr>\n",
       "  </thead>\n",
       "  <tbody>\n",
       "    <tr>\n",
       "      <th>2011</th>\n",
       "      <td>138.0</td>\n",
       "      <td>135.0</td>\n",
       "      <td>193.0</td>\n",
       "      <td>174.0</td>\n",
       "    </tr>\n",
       "    <tr>\n",
       "      <th>2012</th>\n",
       "      <td>28218.0</td>\n",
       "      <td>6889.0</td>\n",
       "      <td>150013.0</td>\n",
       "      <td>18515.0</td>\n",
       "    </tr>\n",
       "    <tr>\n",
       "      <th>2013</th>\n",
       "      <td>33607.0</td>\n",
       "      <td>7934.0</td>\n",
       "      <td>156251.0</td>\n",
       "      <td>20506.0</td>\n",
       "    </tr>\n",
       "    <tr>\n",
       "      <th>2014</th>\n",
       "      <td>28124.0</td>\n",
       "      <td>8187.0</td>\n",
       "      <td>157786.0</td>\n",
       "      <td>22307.0</td>\n",
       "    </tr>\n",
       "    <tr>\n",
       "      <th>2015</th>\n",
       "      <td>26686.0</td>\n",
       "      <td>8963.0</td>\n",
       "      <td>153937.0</td>\n",
       "      <td>20075.0</td>\n",
       "    </tr>\n",
       "  </tbody>\n",
       "</table>\n",
       "</div>"
      ],
      "text/plain": [
       "Warehouse   Whse_A  Whse_C    Whse_J   Whse_S\n",
       "Year                                         \n",
       "2011         138.0   135.0     193.0    174.0\n",
       "2012       28218.0  6889.0  150013.0  18515.0\n",
       "2013       33607.0  7934.0  156251.0  20506.0\n",
       "2014       28124.0  8187.0  157786.0  22307.0\n",
       "2015       26686.0  8963.0  153937.0  20075.0"
      ]
     },
     "execution_count": 22,
     "metadata": {},
     "output_type": "execute_result"
    }
   ],
   "source": [
    "df2.head()"
   ]
  },
  {
   "cell_type": "markdown",
   "id": "surprising-poster",
   "metadata": {
    "papermill": {
     "duration": 0.038192,
     "end_time": "2021-05-30T12:40:56.661206",
     "exception": false,
     "start_time": "2021-05-30T12:40:56.623014",
     "status": "completed"
    },
    "tags": []
   },
   "source": [
    "Creating the ARIMA Model"
   ]
  },
  {
   "cell_type": "code",
   "execution_count": 23,
   "id": "reverse-eugene",
   "metadata": {
    "execution": {
     "iopub.execute_input": "2021-05-30T12:40:56.741450Z",
     "iopub.status.busy": "2021-05-30T12:40:56.740827Z",
     "iopub.status.idle": "2021-05-30T12:41:02.002369Z",
     "shell.execute_reply": "2021-05-30T12:41:02.003416Z",
     "shell.execute_reply.started": "2021-05-30T12:37:14.689953Z"
    },
    "papermill": {
     "duration": 5.304007,
     "end_time": "2021-05-30T12:41:02.003686",
     "exception": false,
     "start_time": "2021-05-30T12:40:56.699679",
     "status": "completed"
    },
    "tags": []
   },
   "outputs": [
    {
     "name": "stdout",
     "output_type": "stream",
     "text": [
      "SARIMAX1: (0, 0, 1) x (0, 0, 1, 12)\n",
      "SARIMAX2: (0, 0, 1) x (0, 1, 0, 12)\n",
      "SARIMAX3: (0, 1, 0) x (0, 1, 1, 12)\n",
      "SARIMAX4: (0, 1, 0) x (1, 0, 0, 12)\n",
      "SARIMA(0, 0, 0)x(0, 0, 0, 12)12 - AIC:2344.0704307124033\n",
      "SARIMA(0, 0, 0)x(0, 0, 1, 12)12 - AIC:1934.1928835402202\n",
      "SARIMA(0, 0, 0)x(0, 1, 0, 12)12 - AIC:1862.6079313938828\n",
      "SARIMA(0, 0, 0)x(0, 1, 1, 12)12 - AIC:1413.1955930564604\n",
      "SARIMA(0, 0, 0)x(1, 0, 0, 12)12 - AIC:1897.8374721163148\n"
     ]
    },
    {
     "name": "stderr",
     "output_type": "stream",
     "text": [
      "/opt/conda/lib/python3.7/site-packages/statsmodels/base/model.py:568: ConvergenceWarning: Maximum Likelihood optimization failed to converge. Check mle_retvals\n",
      "  ConvergenceWarning)\n"
     ]
    },
    {
     "name": "stdout",
     "output_type": "stream",
     "text": [
      "SARIMA(0, 0, 0)x(1, 0, 1, 12)12 - AIC:1997.2321572752192\n",
      "SARIMA(0, 0, 0)x(1, 1, 0, 12)12 - AIC:1440.6014550343189\n",
      "SARIMA(0, 0, 0)x(1, 1, 1, 12)12 - AIC:1414.0578928049881\n",
      "SARIMA(0, 0, 1)x(0, 0, 0, 12)12 - AIC:2265.276799776314\n",
      "SARIMA(0, 0, 1)x(0, 0, 1, 12)12 - AIC:1876.5613755956679\n",
      "SARIMA(0, 0, 1)x(0, 1, 0, 12)12 - AIC:1790.8025464719374\n",
      "SARIMA(0, 0, 1)x(0, 1, 1, 12)12 - AIC:1412.3527721130954\n",
      "SARIMA(0, 0, 1)x(1, 0, 0, 12)12 - AIC:1934.8291713242158\n",
      "SARIMA(0, 0, 1)x(1, 0, 1, 12)12 - AIC:1872.868645832047\n",
      "SARIMA(0, 0, 1)x(1, 1, 0, 12)12 - AIC:1471.9391345294637\n",
      "SARIMA(0, 0, 1)x(1, 1, 1, 12)12 - AIC:1414.2544026189005\n",
      "SARIMA(0, 1, 0)x(0, 0, 0, 12)12 - AIC:2081.849011696963\n",
      "SARIMA(0, 1, 0)x(0, 0, 1, 12)12 - AIC:1728.3815053402643\n",
      "SARIMA(0, 1, 0)x(0, 1, 0, 12)12 - AIC:1741.6306755793414\n",
      "SARIMA(0, 1, 0)x(0, 1, 1, 12)12 - AIC:1386.126892704832\n",
      "SARIMA(0, 1, 0)x(1, 0, 0, 12)12 - AIC:1752.2949192972621\n",
      "SARIMA(0, 1, 0)x(1, 0, 1, 12)12 - AIC:1727.5980407023796\n",
      "SARIMA(0, 1, 0)x(1, 1, 0, 12)12 - AIC:1415.401329526097\n",
      "SARIMA(0, 1, 0)x(1, 1, 1, 12)12 - AIC:1388.2877892398512\n",
      "SARIMA(0, 1, 1)x(0, 0, 0, 12)12 - AIC:2055.0737963842494\n",
      "SARIMA(0, 1, 1)x(0, 0, 1, 12)12 - AIC:1691.1145705442393\n",
      "SARIMA(0, 1, 1)x(0, 1, 0, 12)12 - AIC:1713.7486773047408\n",
      "SARIMA(0, 1, 1)x(0, 1, 1, 12)12 - AIC:1353.2955144788955\n",
      "SARIMA(0, 1, 1)x(1, 0, 0, 12)12 - AIC:1754.9529578040397\n",
      "SARIMA(0, 1, 1)x(1, 0, 1, 12)12 - AIC:1692.840451952837\n",
      "SARIMA(0, 1, 1)x(1, 1, 0, 12)12 - AIC:1417.008047394343\n",
      "SARIMA(0, 1, 1)x(1, 1, 1, 12)12 - AIC:1354.8462429513074\n",
      "SARIMA(1, 0, 0)x(0, 0, 0, 12)12 - AIC:2111.4059905905533\n",
      "SARIMA(1, 0, 0)x(0, 0, 1, 12)12 - AIC:1753.1287303174188\n",
      "SARIMA(1, 0, 0)x(0, 1, 0, 12)12 - AIC:1769.1268218846342\n",
      "SARIMA(1, 0, 0)x(0, 1, 1, 12)12 - AIC:1411.6074368683135\n",
      "SARIMA(1, 0, 0)x(1, 0, 0, 12)12 - AIC:1753.617553918824\n",
      "SARIMA(1, 0, 0)x(1, 0, 1, 12)12 - AIC:1755.128575013085\n",
      "SARIMA(1, 0, 0)x(1, 1, 0, 12)12 - AIC:1411.6152646203473\n",
      "SARIMA(1, 0, 0)x(1, 1, 1, 12)12 - AIC:1413.3192586311693\n",
      "SARIMA(1, 0, 1)x(0, 0, 0, 12)12 - AIC:2084.8428767036157\n",
      "SARIMA(1, 0, 1)x(0, 0, 1, 12)12 - AIC:1722.6088135545822\n",
      "SARIMA(1, 0, 1)x(0, 1, 0, 12)12 - AIC:1740.7955949525992\n",
      "SARIMA(1, 0, 1)x(0, 1, 1, 12)12 - AIC:1383.9622553576116\n",
      "SARIMA(1, 0, 1)x(1, 0, 0, 12)12 - AIC:1755.828167065376\n",
      "SARIMA(1, 0, 1)x(1, 0, 1, 12)12 - AIC:1724.4668991284752\n",
      "SARIMA(1, 0, 1)x(1, 1, 0, 12)12 - AIC:1413.3086602327364\n",
      "SARIMA(1, 0, 1)x(1, 1, 1, 12)12 - AIC:1385.5629811898293\n",
      "SARIMA(1, 1, 0)x(0, 0, 0, 12)12 - AIC:2083.4881876767636\n",
      "SARIMA(1, 1, 0)x(0, 0, 1, 12)12 - AIC:1722.6975835110582\n",
      "SARIMA(1, 1, 0)x(0, 1, 0, 12)12 - AIC:1742.2670256724407\n",
      "SARIMA(1, 1, 0)x(0, 1, 1, 12)12 - AIC:1386.1654409359567\n",
      "SARIMA(1, 1, 0)x(1, 0, 0, 12)12 - AIC:1723.1897536728993\n",
      "SARIMA(1, 1, 0)x(1, 0, 1, 12)12 - AIC:1724.4906930779784\n",
      "SARIMA(1, 1, 0)x(1, 1, 0, 12)12 - AIC:1386.2231232636668\n",
      "SARIMA(1, 1, 0)x(1, 1, 1, 12)12 - AIC:1387.9005061863727\n",
      "SARIMA(1, 1, 1)x(0, 0, 0, 12)12 - AIC:2056.7044648338665\n",
      "SARIMA(1, 1, 1)x(0, 0, 1, 12)12 - AIC:1692.7768596742885\n",
      "SARIMA(1, 1, 1)x(0, 1, 0, 12)12 - AIC:1715.7178210620725\n",
      "SARIMA(1, 1, 1)x(0, 1, 1, 12)12 - AIC:1351.1631068724378\n",
      "SARIMA(1, 1, 1)x(1, 0, 0, 12)12 - AIC:1723.8391282464252\n",
      "SARIMA(1, 1, 1)x(1, 0, 1, 12)12 - AIC:1694.437228788385\n",
      "SARIMA(1, 1, 1)x(1, 1, 0, 12)12 - AIC:1385.749262474629\n",
      "SARIMA(1, 1, 1)x(1, 1, 1, 12)12 - AIC:1336.8596923594766\n"
     ]
    }
   ],
   "source": [
    "import itertools\n",
    "p = d = q = range(0, 2)\n",
    "pdq = list(itertools.product(p, d, q))\n",
    "seasonal_pdq = [(x[0], x[1], x[2], 12) for x in list(itertools.product(p, d, q))]\n",
    "#print('Examples of parameter combinations for Seasonal ARIMA...')\n",
    "print('SARIMAX1: {} x {}'.format(pdq[1], seasonal_pdq[1]))\n",
    "print('SARIMAX2: {} x {}'.format(pdq[1], seasonal_pdq[2]))\n",
    "print('SARIMAX3: {} x {}'.format(pdq[2], seasonal_pdq[3]))\n",
    "print('SARIMAX4: {} x {}'.format(pdq[2], seasonal_pdq[4]))\n",
    "\n",
    "#STEP-02:\n",
    "#Get the best params for the data. Choose the lowest AIC.\n",
    "\n",
    "# The Akaike information criterion (AIC) is an estimator of the relative quality of statistical models for a \n",
    "# given set of data. \n",
    "# AIC measures how well a model fits the data while taking into account the overall complexity of the model.\n",
    "# Large AIC: Model fits very well using a lot of features.\n",
    "# Small AIC: Model fits similar fit but using lesser features. \n",
    "# Hence LOWER THE AIC, the better it is.\n",
    "\n",
    "#The code tests the given params using sarimax and outputs the AIC scores.\n",
    "\n",
    "for param in pdq:\n",
    "    for param_seasonal in seasonal_pdq:\n",
    "        try:\n",
    "            mod = sm.tsa.statespace.SARIMAX(monthly_avg_sales,\n",
    "                                            order=param,\n",
    "                                            seasonal_order=param_seasonal,enforce_stationarity=False,\n",
    "                                            enforce_invertibility=False)\n",
    "            results = mod.fit()\n",
    "            print('SARIMA{}x{}12 - AIC:{}'.format(param, param_seasonal, results.aic))\n",
    "        except:\n",
    "            continue"
   ]
  },
  {
   "cell_type": "code",
   "execution_count": 24,
   "id": "intimate-bumper",
   "metadata": {
    "execution": {
     "iopub.execute_input": "2021-05-30T12:41:02.106432Z",
     "iopub.status.busy": "2021-05-30T12:41:02.105780Z",
     "iopub.status.idle": "2021-05-30T12:41:02.438777Z",
     "shell.execute_reply": "2021-05-30T12:41:02.440146Z",
     "shell.execute_reply.started": "2021-05-30T12:37:38.540762Z"
    },
    "papermill": {
     "duration": 0.390293,
     "end_time": "2021-05-30T12:41:02.440392",
     "exception": false,
     "start_time": "2021-05-30T12:41:02.050099",
     "status": "completed"
    },
    "tags": []
   },
   "outputs": [
    {
     "name": "stdout",
     "output_type": "stream",
     "text": [
      "==============================================================================\n",
      "                 coef    std err          z      P>|z|      [0.025      0.975]\n",
      "------------------------------------------------------------------------------\n",
      "ar.L1         -0.1130      0.828     -0.137      0.891      -1.736       1.510\n",
      "ma.L1         -0.6431      0.621     -1.035      0.301      -1.861       0.575\n",
      "ma.S.L12      -1.0802      0.028    -38.878      0.000      -1.135      -1.026\n",
      "sigma2      3.708e+11   1.89e-12   1.96e+23      0.000    3.71e+11    3.71e+11\n",
      "==============================================================================\n"
     ]
    }
   ],
   "source": [
    "from statsmodels.tsa.statespace.sarimax import SARIMAX\n",
    "mod = sm.tsa.statespace.SARIMAX(monthly_avg_sales,\n",
    "                                order=(1, 1, 1),\n",
    "                                seasonal_order=(0, 1, 1, 12),\n",
    "                                enforce_stationarity=False,\n",
    "                                enforce_invertibility=False)\n",
    "results = mod.fit()\n",
    "print(results.summary().tables[1])"
   ]
  }
 ],
 "metadata": {
  "kernelspec": {
   "display_name": "Python 3",
   "language": "python",
   "name": "python3"
  },
  "language_info": {
   "codemirror_mode": {
    "name": "ipython",
    "version": 3
   },
   "file_extension": ".py",
   "mimetype": "text/x-python",
   "name": "python",
   "nbconvert_exporter": "python",
   "pygments_lexer": "ipython3",
   "version": "3.7.10"
  },
  "papermill": {
   "default_parameters": {},
   "duration": 33.841395,
   "end_time": "2021-05-30T12:41:04.065747",
   "environment_variables": {},
   "exception": null,
   "input_path": "__notebook__.ipynb",
   "output_path": "__notebook__.ipynb",
   "parameters": {},
   "start_time": "2021-05-30T12:40:30.224352",
   "version": "2.3.3"
  }
 },
 "nbformat": 4,
 "nbformat_minor": 5
}
